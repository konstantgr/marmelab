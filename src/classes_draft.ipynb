{
 "cells": [
  {
   "cell_type": "code",
   "execution_count": 6,
   "id": "0d6824e7",
   "metadata": {},
   "outputs": [],
   "source": [
    "from dataclasses import dataclass\n",
    "from typing import Union, Type, Any\n",
    "import re"
   ]
  },
  {
   "cell_type": "markdown",
   "id": "a25d2af2",
   "metadata": {},
   "source": [
    "- Classes: Setting, Variable, Unit\n",
    "- Methods of Variable: add, sub, multi, negative (magic variables)\n",
    "- Methods of Unit: mult, inverse $\\left (\\frac{1}{Unit} \\right )$"
   ]
  },
  {
   "cell_type": "code",
   "execution_count": 7,
   "id": "c79a713b",
   "metadata": {},
   "outputs": [],
   "source": [
    "STANDARD_UNIT_PREFIXES = {\n",
    "    'n': 1e-9,\n",
    "    'u': 1e-6,\n",
    "    'm': 1e-3,\n",
    "    'c': 1e-2,\n",
    "    'd': 1e-1,\n",
    "    '': 1,\n",
    "    'k': 1e3,\n",
    "    'M': 1e6,\n",
    "    'G': 1e9,\n",
    "    'T': 1e12,\n",
    "}"
   ]
  },
  {
   "cell_type": "code",
   "execution_count": 8,
   "id": "d3c6685f",
   "metadata": {},
   "outputs": [],
   "source": [
    "@dataclass \n",
    "class Unit:\n",
    "    \"\"\"\n",
    "    Класс единиц измерений\n",
    "    \"\"\"\n",
    "    m: int\n",
    "    s: int\n",
    "    g: int\n",
    "    Hz: int\n",
    "    B: int\n",
    "        \n",
    "    def __mul__(self, other):\n",
    "        \"\"\"\n",
    "        Операция перемножения степеней \n",
    "        \"\"\"\n",
    "        u = Unit(m= self.m + other.m,\n",
    "                 s= self.s + other.s,\n",
    "                 g= self.g + other.g,\n",
    "                 Hz= self.Hz + other.Hz,\n",
    "                 B= self.B + other.B)\n",
    "        \n",
    "        return u\n",
    "    \n",
    "    def inverse(self):\n",
    "        \"\"\"\n",
    "        Операция обращение степеней\n",
    "        Пример: kg^3 s^2 -> kg^-3 s^-2\n",
    "        \"\"\"\n",
    "        u = Unit(m= -self.m,\n",
    "                 s= -self.s,\n",
    "                 g= -self.g,\n",
    "                 Hz= -self.Hz,\n",
    "                 B= -self.B)\n",
    "        \n",
    "        return u\n",
    "            "
   ]
  },
  {
   "cell_type": "code",
   "execution_count": 9,
   "id": "84b55997",
   "metadata": {},
   "outputs": [],
   "source": [
    "@dataclass \n",
    "class Variable:\n",
    "    \"\"\"\n",
    "    Класс переменной \n",
    "    \"\"\"\n",
    "    name: ''\n",
    "    value: Union[int, float, bool, str]\n",
    "    unit: Unit\n",
    "    description: ''\n",
    "        \n",
    "    def __add__(self, other):\n",
    "        \"\"\"\n",
    "        Сложение класса Variable\n",
    "        \n",
    "        Знак операции +\n",
    "        \"\"\"\n",
    "        \n",
    "        assert(self.unit.m == other.unit.m)\n",
    "        assert(self.unit.s == other.unit.s)\n",
    "        assert(self.unit.kg == other.unit.kg)\n",
    "        assert(self.unit.Hz == other.unit.Hz)\n",
    "        assert(self.unit.B == other.unit.B)\n",
    "        \n",
    "        var = Variable(name='',\n",
    "                       value=self.value + other.value,\n",
    "                       unit=self.unit,\n",
    "                       description=f'Sum of {self.name} and {other.name}' )\n",
    "        \n",
    "        return var\n",
    "    \n",
    "    def __sub__(self, other):\n",
    "        \"\"\"\n",
    "        Вычитание класса Variable\n",
    "        \n",
    "        Знак операции -\n",
    "        \"\"\"\n",
    "        \n",
    "        assert(self.unit.m == other.unit.m)\n",
    "        assert(self.unit.s == other.unit.s)\n",
    "        assert(self.unit.kg == other.unit.kg)\n",
    "        assert(self.unit.Hz == other.unit.Hz)\n",
    "        assert(self.unit.B == other.unit.B)\n",
    "        \n",
    "        var = Variable(name='',\n",
    "                       value=self.value - other.value,\n",
    "                       unit=self.unit,\n",
    "                       description=f'Difference of {self.name} and {other.name}' )\n",
    "        return var\n",
    "    \n",
    "    def __mul__(self, other):\n",
    "        \"\"\"\n",
    "        Умножение класса Variable\n",
    "        \n",
    "        Знак операции *\n",
    "        \"\"\"\n",
    "        \n",
    "        u = self.unit * other.unit\n",
    "        var = Variable(name='',\n",
    "                       value=self.value * other.value,\n",
    "                       unit=u,\n",
    "                       description=f'The product of {self.name} and {other.name}')\n",
    "        \n",
    "        return var\n",
    "    \n",
    "    def __truediv__(self, other):\n",
    "        \"\"\"\n",
    "        Деление класса Variable\n",
    "        \n",
    "        Знак операции /\n",
    "        \"\"\"\n",
    "                \n",
    "        u = self.unit * Unit.inverse(other.unit)\n",
    "        \n",
    "        var = Variable(name='',\n",
    "                       value= self.value/other.value,\n",
    "                       unit=u,\n",
    "                       description=f'Fraction of {self.name} and {other.name}')\n",
    "        \n",
    "        return var\n",
    "        \n",
    "    def __neg__(self):\n",
    "        \"\"\"\n",
    "        Операция -\n",
    "        \n",
    "        \"\"\"\n",
    "        \n",
    "        var = Variable(name='',\n",
    "                       value= -self.value,\n",
    "                       unit=self.unit,\n",
    "                       description=f'Neg of {self.name}')\n",
    "        return var"
   ]
  },
  {
   "cell_type": "code",
   "execution_count": 10,
   "id": "0768b0d6",
   "metadata": {},
   "outputs": [],
   "source": [
    "a = Unit(1,0,3 ,4,5)\n",
    "b =  Unit(1,2,3 ,4,5)\n",
    "c = Variable('ha', 3, a, 'smth')\n",
    "d = Variable('ha', -3, b, 'smth')"
   ]
  },
  {
   "cell_type": "code",
   "execution_count": 11,
   "id": "e532f63d",
   "metadata": {},
   "outputs": [
    {
     "data": {
      "text/plain": [
       "Variable(name='ha', value=3, unit=Unit(m=1, s=0, g=3, Hz=4, B=5), description='smth')"
      ]
     },
     "execution_count": 11,
     "metadata": {},
     "output_type": "execute_result"
    }
   ],
   "source": [
    "c"
   ]
  },
  {
   "cell_type": "code",
   "execution_count": 12,
   "id": "d1bc3484",
   "metadata": {},
   "outputs": [
    {
     "data": {
      "text/plain": [
       "Variable(name='ha', value=-3, unit=Unit(m=1, s=2, g=3, Hz=4, B=5), description='smth')"
      ]
     },
     "execution_count": 12,
     "metadata": {},
     "output_type": "execute_result"
    }
   ],
   "source": [
    "d"
   ]
  },
  {
   "cell_type": "code",
   "execution_count": null,
   "id": "5a3bc854",
   "metadata": {},
   "outputs": [],
   "source": []
  },
  {
   "cell_type": "code",
   "execution_count": null,
   "id": "21398768",
   "metadata": {},
   "outputs": [],
   "source": []
  },
  {
   "cell_type": "code",
   "execution_count": 13,
   "id": "ac77a4c6",
   "metadata": {},
   "outputs": [],
   "source": [
    "a = c/d"
   ]
  },
  {
   "cell_type": "code",
   "execution_count": null,
   "id": "57be7dcc",
   "metadata": {},
   "outputs": [],
   "source": []
  },
  {
   "cell_type": "code",
   "execution_count": null,
   "id": "1b78ea21",
   "metadata": {},
   "outputs": [],
   "source": []
  },
  {
   "cell_type": "code",
   "execution_count": null,
   "id": "4dcab006",
   "metadata": {},
   "outputs": [],
   "source": []
  },
  {
   "cell_type": "code",
   "execution_count": 14,
   "id": "a0d3c588",
   "metadata": {},
   "outputs": [],
   "source": [
    "@dataclass \n",
    "class Setting:\n",
    "    \"\"\"\n",
    "    Класс настройки\n",
    "    \"\"\"\n",
    "    name: ''\n",
    "    default_value: Variable\n",
    "    description: ''"
   ]
  },
  {
   "cell_type": "code",
   "execution_count": 15,
   "id": "7e677636",
   "metadata": {},
   "outputs": [],
   "source": [
    "# meter = {'nm': -9, 'um': -6, 'mm': -3, 'cm': -2, 'dm': -1 ,'m': 1, 'km': 3,'Mm': 6,'Gm': 9,'Tm': 12}\n",
    "# sec = {'ns': -9, 'us': -6, 'ms': -3, 'cs': -2, 'ds': -1 ,'s': 1, 'ks': 3,'Ms': 6,'Gs': 9,'Ts': 12}\n",
    "# gram = {'ng': -9, 'ug': -6, 'mg': -3, 'cg': -2, 'dg': -1 ,'g': 1, 'kg': 3,'Mg': 6,'Gg': 9,'Tg': 12}\n",
    "# hertz = {'nHz':-9, 'uHz':-6, 'mHz':-3, 'cHz':-2, 'dHz':-1 ,'Hz':1, 'kHz':3,'MHz':6,'GHz':9,'THz':12}\n",
    "# tesla = {'nB': -9, 'uB': -6, 'mB': -3, 'cB': -2, 'dB': -1 ,'B': 1, 'kB': 3,'MB': 6,'GB': 9,'TB': 12}\n",
    "\n",
    "# dict_units = {'m':meter, 's': sec, 'g':gram, 'Hz':hertz, 'B': tesla}\n",
    "\n",
    "dict_units = {\n",
    "        'nm': -9, 'um': -6, 'mm': -3, 'cm': -2, 'dm': -1 ,'m': 1, 'km': 3,'Mm': 6,'Gm': 9,'Tm': 12,\n",
    "        'ns': -9, 'us': -6, 'ms': -3, 'cs': -2, 'ds': -1 ,'s': 1, 'ks': 3,'Ms': 6,'Gs': 9,'Ts': 12,\n",
    "        'ng': -9, 'ug': -6, 'mg': -3, 'cg': -2, 'dg': -1 ,'g': 1, 'kg': 3,'Mg': 6,'Gg': 9,'Tg': 12,\n",
    "        'nHz':-9, 'uHz':-6, 'mHz':-3, 'cHz':-2, 'dHz':-1 ,'Hz':1, 'kHz':3,'MHz':6,'GHz':9,'THz':12,\n",
    "        'nB': -9, 'uB': -6, 'mB': -3, 'cB': -2, 'dB': -1 ,'B': 1, 'kB': 3,'MB': 6,'GB': 9,'TB': 12}"
   ]
  },
  {
   "cell_type": "code",
   "execution_count": null,
   "id": "7d16589a",
   "metadata": {},
   "outputs": [],
   "source": []
  },
  {
   "cell_type": "code",
   "execution_count": 16,
   "id": "9cf784ba",
   "metadata": {},
   "outputs": [],
   "source": [
    "def input_setting(s):\n",
    "    \n",
    "    d = {'m':0, 's':0, 'g':0, 'Hz':0, 'B':0}\n",
    "    \n",
    "    splited_string = s.split()\n",
    "    value = float(splited_string[0])\n",
    "    \n",
    "    for i in splited_string[1:]:\n",
    "        if (i.find('^') == -1):\n",
    "            if (i.find('s') != -1):\n",
    "                d['s'] += dict_units[i]\n",
    "            elif (i.find('g') != -1):\n",
    "                d['g'] += dict_units[i] \n",
    "            elif (i.find('Hz') != -1):\n",
    "                d['Hz'] += dict_units[i] \n",
    "            elif (i.find('B') != -1):\n",
    "                d['B'] += dict_units[i] \n",
    "            else:\n",
    "                d['m'] += dict_units[i]\n",
    "                \n",
    "        else:\n",
    "            i = i.split('^')\n",
    "            if (i[0].find('s') != -1):\n",
    "                d['s'] += dict_units[i[0]] * int(i[-1])\n",
    "            elif (i[0].find('g') != -1):\n",
    "                d['g'] += dict_units[i[0]] * int(i[-1])\n",
    "            elif (i[0].find('Hz') != -1):\n",
    "                d['Hz'] += dict_units[i[0]] * int(i[-1])\n",
    "            elif (i[0].find('B') != -1):\n",
    "                d['B'] += dict_units[i[0]] * int(i[-1])\n",
    "            else:\n",
    "                d['m'] += dict_units[i[0]] * int(i[-1])\n",
    "                \n",
    "    \n",
    "    u = Unit(d['m'], d['s'], d['g'], d['Hz'], d['B'] )\n",
    "    \n",
    "    var = Variable(name='',\n",
    "          value=value, \n",
    "          unit=u,\n",
    "          description='')\n",
    "    \n",
    "    \n",
    "    return var"
   ]
  },
  {
   "cell_type": "code",
   "execution_count": null,
   "id": "96975a8d",
   "metadata": {},
   "outputs": [],
   "source": []
  },
  {
   "cell_type": "code",
   "execution_count": null,
   "id": "0c96b56f",
   "metadata": {},
   "outputs": [],
   "source": []
  },
  {
   "cell_type": "code",
   "execution_count": null,
   "id": "bd93a6aa",
   "metadata": {},
   "outputs": [],
   "source": []
  },
  {
   "cell_type": "code",
   "execution_count": 25,
   "id": "512b3a9f",
   "metadata": {},
   "outputs": [],
   "source": [
    "s = '10000 m^1 Gs       kg^3 Hz^4 B^-5'\n"
   ]
  },
  {
   "cell_type": "code",
   "execution_count": 26,
   "id": "c55789e5",
   "metadata": {},
   "outputs": [
    {
     "data": {
      "text/plain": [
       "Variable(name='', value=10000.0, unit=Unit(m=1, s=9, g=9, Hz=4, B=-5), description='')"
      ]
     },
     "execution_count": 26,
     "metadata": {},
     "output_type": "execute_result"
    }
   ],
   "source": [
    "input_setting(s)"
   ]
  },
  {
   "cell_type": "code",
   "execution_count": null,
   "id": "e716f4b9",
   "metadata": {},
   "outputs": [],
   "source": []
  },
  {
   "cell_type": "code",
   "execution_count": 19,
   "id": "29fb24be",
   "metadata": {},
   "outputs": [],
   "source": [
    "OPERATORS = {'+': (1, lambda x, y: x + y), '-': (1, lambda x, y: x - y),\n",
    "             '*': (2, lambda x, y: x * y), '/': (2, lambda x, y: x / y)}\n",
    "\n",
    "\n",
    "def eval_(formula):\n",
    "    def parse(formula_string):\n",
    "        number = ''\n",
    "        for s in formula_string:\n",
    "            if s in '1234567890.':\n",
    "                number += s\n",
    "            elif number:\n",
    "                yield float(number)\n",
    "                number = ''\n",
    "            if s in OPERATORS or s in \"()\":\n",
    "                yield s\n",
    "        if number:\n",
    "            yield float(number)\n",
    "\n",
    "    def shunting_yard(parsed_formula):\n",
    "        stack = []\n",
    "        for token in parsed_formula:\n",
    "            if token in OPERATORS:\n",
    "                while stack and stack[-1] != \"(\" and OPERATORS[token][0] <= OPERATORS[stack[-1]][0]:\n",
    "                    yield stack.pop()\n",
    "                stack.append(token)\n",
    "            elif token == \")\":\n",
    "                while stack:\n",
    "                    x = stack.pop()\n",
    "                    if x == \"(\":\n",
    "                        break\n",
    "                    yield x\n",
    "            elif token == \"(\":\n",
    "                stack.append(token)\n",
    "            else:\n",
    "                yield token\n",
    "        while stack:\n",
    "            yield stack.pop()\n",
    "\n",
    "    def calc(polish):\n",
    "        stack = []\n",
    "        for token in polish:\n",
    "            if token in OPERATORS:\n",
    "                y, x = stack.pop(), stack.pop()\n",
    "                stack.append(OPERATORS[token][1](x, y))\n",
    "            else:\n",
    "                stack.append(token)\n",
    "        return stack[0]\n",
    "\n",
    "    return calc(shunting_yard(parse(formula)))"
   ]
  },
  {
   "cell_type": "code",
   "execution_count": 24,
   "id": "d292aca9",
   "metadata": {},
   "outputs": [
    {
     "data": {
      "text/plain": [
       "14.899999999999999"
      ]
     },
     "execution_count": 24,
     "metadata": {},
     "output_type": "execute_result"
    }
   ],
   "source": [
    "eval_('2+3*((1 + 2.3)+1)/1')"
   ]
  },
  {
   "cell_type": "markdown",
   "id": "fe3fc778",
   "metadata": {},
   "source": [
    "- добавить степень\n",
    "- постараться получить калькулятор с размерностью \n",
    "- добавить метод сравнения в класс юнит\n",
    "- сделать двумя форами автоматическую генерацию дик унит"
   ]
  },
  {
   "cell_type": "code",
   "execution_count": null,
   "id": "406426b2",
   "metadata": {},
   "outputs": [],
   "source": []
  }
 ],
 "metadata": {
  "kernelspec": {
   "display_name": "Python 3 (ipykernel)",
   "language": "python",
   "name": "python3"
  },
  "language_info": {
   "codemirror_mode": {
    "name": "ipython",
    "version": 3
   },
   "file_extension": ".py",
   "mimetype": "text/x-python",
   "name": "python",
   "nbconvert_exporter": "python",
   "pygments_lexer": "ipython3",
   "version": "3.9.16"
  }
 },
 "nbformat": 4,
 "nbformat_minor": 5
}
